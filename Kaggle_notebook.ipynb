{
 "cells": [
  {
   "cell_type": "markdown",
   "metadata": {},
   "source": [
    "# TITULO\n"
   ]
  },
  {
   "cell_type": "markdown",
   "metadata": {},
   "source": [
    "I perfomed an initial exploration on the data"
   ]
  },
  {
   "cell_type": "code",
   "execution_count": 1,
   "metadata": {},
   "outputs": [],
   "source": [
    "import numpy as np\n",
    "import matplotlib.pyplot as plt\n",
    "import pandas as pd"
   ]
  },
  {
   "cell_type": "code",
   "execution_count": 2,
   "metadata": {},
   "outputs": [
    {
     "name": "stdout",
     "output_type": "stream",
     "text": [
      "Kaggle_notebook.ipynb  kaggle-survey-2018  README.md  surveyModified\r\n"
     ]
    },
    {
     "name": "stderr",
     "output_type": "stream",
     "text": [
      "/home/clarko/anaconda3/lib/python3.7/site-packages/IPython/core/interactiveshell.py:2785: DtypeWarning: Columns (0,2,8,10,21,23,24,25,26,27,28,44,56,64,83,85,87,107,109,123,125,150,157,172,174,194,210,218,219,223,246,249,262,264,276,277,278,279,280,281,282,283,284,285,286,287,288,289,290,304,306,325,326,329,341,368,371,384,385,389,390,391,393,394) have mixed types. Specify dtype option on import or set low_memory=False.\n",
      "  interactivity=interactivity, compiler=compiler, result=result)\n"
     ]
    },
    {
     "name": "stdout",
     "output_type": "stream",
     "text": [
      "0 Time from Start to Finish (seconds) Question:\n",
      "1 Q1 What is your gender? - Selected Choice\n",
      "2 Q1_OTHER_TEXT Does your current employer incorporate machine learning methods into their business?\n",
      "3 Q2 Select any activities that make up an important part of your role at work: (Select all that apply) - Selected Choice\n",
      "4 Q3 What is the primary tool that you use at work or school to analyze data? (include text response) - Selected Choice\n",
      "5 Q4 Which of the following integrated development environments (IDE's) have you used at work or school in the last 5 years? (Select all that apply) - Selected Choice\n",
      "6 Q5 Which of the following hosted notebooks have you used at work or school in the last 5 years? (Select all that apply) - Selected Choice\n",
      "7 Q6 Which of the following cloud computing services have you used at work or school in the last 5 years? (Select all that apply) - Selected Choice\n",
      "8 Q6_OTHER_TEXT What programming languages do you use on a regular basis? (Select all that apply) - Selected Choice\n",
      "9 Q7 What specific programming language do you use most often? - Selected Choice\n",
      "10 Q7_OTHER_TEXT What programming language would you recommend an aspiring data scientist to learn first? - Selected Choice\n",
      "11 Q8 What machine learning frameworks have you used in the past 5 years? (Select all that apply) - Selected Choice\n",
      "12 Q9 What is your age (# years)?\n",
      "13 Q10 Of the choices that you selected in the previous question, which ML library have you used the most? - Selected Choice\n",
      "14 Q11_Part_1 What data visualization libraries or tools have you used in the past 5 years? (Select all that apply) - Selected Choice\n",
      "15 Q11_Part_2 Of the choices that you selected in the previous question, which specific data visualization library or tool have you used the most? - Selected Choice\n",
      "16 Q11_Part_3 Approximately what percent of your time at work or school is spent actively coding?\n",
      "17 Q11_Part_4 How long have you been writing code to analyze data?\n",
      "18 Q11_Part_5 For how many years have you used machine learning methods (at work or in school)?\n",
      "19 Q11_Part_6 Do you consider yourself to be a data scientist?\n",
      "20 Q11_Part_7 Which of the following cloud computing products have you used at work or school in the last 5 years (Select all that apply)? - Selected Choice\n",
      "21 Q11_OTHER_TEXT Which of the following machine learning products have you used at work or school in the last 5 years? (Select all that apply) - Selected Choice\n",
      "22 Q12_MULTIPLE_CHOICE Which of the following relational database products have you used at work or school in the last 5 years? (Select all that apply) - Selected Choice\n",
      "23 Q12_Part_1_TEXT In which country do you currently reside?\n",
      "24 Q12_Part_2_TEXT Which of the following big data and analytics products have you used at work or school in the last 5 years? (Select all that apply) - Selected Choice\n",
      "25 Q12_Part_3_TEXT Which types of data do you currently interact with most often at work or school? (Select all that apply) - Selected Choice\n",
      "26 Q12_Part_4_TEXT What is the type of data that you currently interact with most often at work or school? - Selected Choice\n",
      "27 Q12_Part_5_TEXT Where do you find public datasets? (Select all that apply) - Selected Choice\n",
      "28 Q12_OTHER_TEXT During a typical data science project at work or school, approximately what proportion of your time is devoted to the following? (Answers must add up to 100%) - Cleaning data\n",
      "29 Q13_Part_1 What percentage of your current machine learning/data science training falls under each category? (Answers must add up to 100%) - Self-taught\n",
      "30 Q13_Part_2 On which online platforms have you begun or completed data science courses? (Select all that apply) - Selected Choice\n",
      "31 Q13_Part_3 On which online platform have you spent the most amount of time? - Selected Choice\n",
      "32 Q13_Part_4 Who/what are your favorite media sources that report on data science topics? (Select all that apply) - Selected Choice\n",
      "33 Q13_Part_5 How do you perceive the quality of online learning platforms and in-person bootcamps as compared to the quality of the education provided by traditional brick and mortar institutions? - Online learning platforms and MOOCs:\n",
      "34 Q13_Part_6 What is the highest level of formal education that you have attained or plan to attain within the next 2 years?\n",
      "35 Q13_Part_7 Which better demonstrates expertise in data science: academic achievements or independent projects? - Your views:\n",
      "36 Q13_Part_8 How do you perceive the importance of the following topics? - Fairness and bias in ML algorithms:\n",
      "37 Q13_Part_9 What metrics do you or your organization use to determine whether or not your models were successful? (Select all that apply) - Selected Choice\n",
      "38 Q13_Part_10 Approximately what percent of your data projects involved exploring unfair bias in the dataset and/or algorithm?\n",
      "39 Q13_Part_11 What do you find most difficult about ensuring that your algorithms are fair and unbiased? (Select all that apply)\n",
      "40 Q13_Part_12 In what circumstances would you explore model insights and interpret your model's predictions? (Select all that apply)\n",
      "41 Q13_Part_13 Approximately what percent of your data projects involve exploring model insights?\n",
      "42 Q13_Part_14 What methods do you prefer for explaining and/or interpreting decisions that are made by ML models? (Select all that apply) - Selected Choice\n",
      "43 Q13_Part_15 Do you consider ML models to be \"black boxes\" with outputs that are difficult or impossible to explain?\n",
      "44 Q13_OTHER_TEXT What tools and methods do you use to make your work easy to reproduce? (Select all that apply) - Selected Choice\n",
      "45 Q14_Part_1 Which best describes your undergraduate major? - Selected Choice\n",
      "46 Q14_Part_2 What barriers prevent you from making your work even easier to reuse and reproduce? (Select all that apply) - Selected Choice\n",
      "47 Q14_Part_3 Select the title most similar to your current role (or most recent title if retired): - Selected Choice\n",
      "48 Q14_Part_4 In what industry is your current employer/contract (or your most recent employer if retired)? - Selected Choice\n",
      "49 Q14_Part_5 How many years of experience do you have in your current role?\n",
      "50 Q14_Part_6 What is your current yearly compensation (approximate $USD)?\n",
      "51 Q14_Part_7 Duration (in seconds)\n"
     ]
    },
    {
     "ename": "IndexError",
     "evalue": "index 52 is out of bounds for axis 0 with size 52",
     "output_type": "error",
     "traceback": [
      "\u001b[0;31m---------------------------------------------------------------------------\u001b[0m",
      "\u001b[0;31mIndexError\u001b[0m                                Traceback (most recent call last)",
      "\u001b[0;32m<ipython-input-2-09d0b54f9d82>\u001b[0m in \u001b[0;36m<module>\u001b[0;34m()\u001b[0m\n\u001b[1;32m     13\u001b[0m \u001b[0;34m\u001b[0m\u001b[0m\n\u001b[1;32m     14\u001b[0m \u001b[0;32mfor\u001b[0m \u001b[0mi\u001b[0m \u001b[0;32min\u001b[0m \u001b[0mrange\u001b[0m\u001b[0;34m(\u001b[0m\u001b[0mlen\u001b[0m\u001b[0;34m(\u001b[0m\u001b[0mkeys\u001b[0m\u001b[0;34m)\u001b[0m\u001b[0;34m)\u001b[0m\u001b[0;34m:\u001b[0m\u001b[0;34m\u001b[0m\u001b[0m\n\u001b[0;32m---> 15\u001b[0;31m     \u001b[0mprint\u001b[0m\u001b[0;34m(\u001b[0m\u001b[0mi\u001b[0m\u001b[0;34m,\u001b[0m\u001b[0mkeys\u001b[0m\u001b[0;34m[\u001b[0m\u001b[0mi\u001b[0m\u001b[0;34m]\u001b[0m\u001b[0;34m,\u001b[0m\u001b[0mnames\u001b[0m\u001b[0;34m[\u001b[0m\u001b[0mi\u001b[0m\u001b[0;34m]\u001b[0m\u001b[0;34m)\u001b[0m\u001b[0;34m\u001b[0m\u001b[0m\n\u001b[0m",
      "\u001b[0;32m~/anaconda3/lib/python3.7/site-packages/pandas/core/indexes/base.py\u001b[0m in \u001b[0;36m__getitem__\u001b[0;34m(self, key)\u001b[0m\n\u001b[1;32m   2082\u001b[0m \u001b[0;34m\u001b[0m\u001b[0m\n\u001b[1;32m   2083\u001b[0m         \u001b[0;32mif\u001b[0m \u001b[0mis_scalar\u001b[0m\u001b[0;34m(\u001b[0m\u001b[0mkey\u001b[0m\u001b[0;34m)\u001b[0m\u001b[0;34m:\u001b[0m\u001b[0;34m\u001b[0m\u001b[0m\n\u001b[0;32m-> 2084\u001b[0;31m             \u001b[0;32mreturn\u001b[0m \u001b[0mgetitem\u001b[0m\u001b[0;34m(\u001b[0m\u001b[0mkey\u001b[0m\u001b[0;34m)\u001b[0m\u001b[0;34m\u001b[0m\u001b[0m\n\u001b[0m\u001b[1;32m   2085\u001b[0m \u001b[0;34m\u001b[0m\u001b[0m\n\u001b[1;32m   2086\u001b[0m         \u001b[0;32mif\u001b[0m \u001b[0misinstance\u001b[0m\u001b[0;34m(\u001b[0m\u001b[0mkey\u001b[0m\u001b[0;34m,\u001b[0m \u001b[0mslice\u001b[0m\u001b[0;34m)\u001b[0m\u001b[0;34m:\u001b[0m\u001b[0;34m\u001b[0m\u001b[0m\n",
      "\u001b[0;31mIndexError\u001b[0m: index 52 is out of bounds for axis 0 with size 52"
     ]
    }
   ],
   "source": [
    "#!ls kaggle-survey-2018/\n",
    "!ls\n",
    "data = pd.read_csv('kaggle-survey-2018/multipleChoiceResponses.csv',delimiter=',')\n",
    "!cat kaggle-survey-2018/SurveySchema.csv |grep -v Q1 > surveyModified\n",
    "schema = pd.read_csv('surveyModified',delimiter=',')\n",
    "names = schema.keys()\n",
    "#print(len(data))\n",
    "#data['Q1']\n",
    "ii = (data['Q3'] == 'Colombia')\n",
    "len(data[ii])\n",
    "data[ii]\n",
    "keys = data.keys()\n",
    "\n",
    "for i in range(len(keys)):\n",
    "    print(i,keys[i],names[i])\n"
   ]
  },
  {
   "cell_type": "code",
   "execution_count": 12,
   "metadata": {},
   "outputs": [],
   "source": [
    "#cat \n",
    "N = 0\n",
    "#print(names[N:N+5])\n",
    "#data[keys[N:N+5]]"
   ]
  },
  {
   "cell_type": "code",
   "execution_count": 14,
   "metadata": {},
   "outputs": [],
   "source": [
    "#names"
   ]
  },
  {
   "cell_type": "code",
   "execution_count": null,
   "metadata": {},
   "outputs": [],
   "source": []
  }
 ],
 "metadata": {
  "kernelspec": {
   "display_name": "Python 3",
   "language": "python",
   "name": "python3"
  },
  "language_info": {
   "codemirror_mode": {
    "name": "ipython",
    "version": 3
   },
   "file_extension": ".py",
   "mimetype": "text/x-python",
   "name": "python",
   "nbconvert_exporter": "python",
   "pygments_lexer": "ipython3",
   "version": "3.7.0"
  }
 },
 "nbformat": 4,
 "nbformat_minor": 2
}
